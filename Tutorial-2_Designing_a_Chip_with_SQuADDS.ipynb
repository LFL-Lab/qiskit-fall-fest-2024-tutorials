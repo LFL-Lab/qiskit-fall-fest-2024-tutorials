{
 "cells": [
  {
   "cell_type": "markdown",
   "metadata": {},
   "source": [
    "# Tutorial 2: Designing a \"fab-ready\" chip with `SQuADDS`\n",
    "\n",
    "In this tutorial, we will go over how to use `SQuADDS` to design a fabrication ready chip addressing real-world design constraints."
   ]
  },
  {
   "cell_type": "markdown",
   "metadata": {},
   "source": [
    "## Chip Design Idea\n",
    "\n",
    "We aim to design a chip with the following specifications:\n",
    "\n",
    "1. A qubit with a target frequency of 3.7 GHz and an anharmonicity of -210 MHz.\n",
    "2. A readout resonator with a frequency determined by $ f_r = 2(f_q + \\alpha) $\n",
    "3. Strong coupling between the qubit and the cavity (i.e. punchout shift $\\approx$ few MHz).\n",
    "4. Microwave measurements will be done in transmission.\n",
    "5. The design must allow for qubit drive functionality.\n"
   ]
  },
  {
   "cell_type": "code",
   "execution_count": 1,
   "metadata": {},
   "outputs": [],
   "source": [
    "%load_ext autoreload\n",
    "%autoreload 2"
   ]
  },
  {
   "cell_type": "code",
   "execution_count": 2,
   "metadata": {},
   "outputs": [],
   "source": [
    "%matplotlib inline"
   ]
  },
  {
   "cell_type": "markdown",
   "metadata": {},
   "source": [
    "## Query the SQuADDS Database\n",
    "\n",
    "Let's first query for the qubit-cavity pair of our interest."
   ]
  },
  {
   "cell_type": "code",
   "execution_count": 3,
   "metadata": {},
   "outputs": [],
   "source": [
    "from squadds import SQuADDS_DB, Analyzer\n",
    "import numpy as np\n",
    "import pandas as pd"
   ]
  },
  {
   "cell_type": "code",
   "execution_count": null,
   "metadata": {},
   "outputs": [],
   "source": [
    "# Make a connection to the SQuADDS database\n",
    "db = SQuADDS_DB()\n",
    "db.select_system([\"cavity_claw\", \"qubit\"])\n",
    "db.select_qubit(\"TransmonCross\")\n",
    "db.select_cavity_claw(\"RouteMeander\")\n",
    "db.select_resonator_type(\"quarter\")\n",
    "df = db.create_system_df()\n",
    "\n",
    "\n",
    "# Initialize the Analyzer\n",
    "analyzer = Analyzer(db)"
   ]
  },
  {
   "cell_type": "markdown",
   "metadata": {},
   "source": [
    "Query for the desired Hamiltonian parameters"
   ]
  },
  {
   "cell_type": "code",
   "execution_count": 5,
   "metadata": {},
   "outputs": [],
   "source": [
    "target_params = {\n",
    "                \"qubit_frequency_GHz\": 3.7,\n",
    "                \"resonator_type\":\"quarter\",\n",
    "                \"anharmonicity_MHz\": -210,\n",
    "                \"g_MHz\": 100 # should provide a big punchout shift\n",
    "                }\n",
    "\n",
    "# computing the cavity frequency desired as per the design requirements\n",
    "target_params[\"cavity_frequency_GHz\"] = 2*(target_params[\"qubit_frequency_GHz\"]+target_params[\"anharmonicity_MHz\"]/1000)"
   ]
  },
  {
   "cell_type": "code",
   "execution_count": null,
   "metadata": {},
   "outputs": [],
   "source": [
    "results = analyzer.find_closest(\n",
    "    target_params=target_params,\n",
    "    num_top=1,\n",
    "    metric=\"Euclidean\",\n",
    ")\n",
    "results"
   ]
  },
  {
   "cell_type": "markdown",
   "metadata": {},
   "source": [
    "Lets extract all the relevant design parameters from `SQuADDS` for our target Hamiltonian parameters."
   ]
  },
  {
   "cell_type": "code",
   "execution_count": 7,
   "metadata": {},
   "outputs": [],
   "source": [
    "data_qubit = analyzer.get_qubit_options(results)\n",
    "data_cpw = analyzer.get_cpw_options(results)\n",
    "data_coupler = analyzer.get_coupler_options(results)\n",
    "LJs = analyzer.get_Ljs(results)"
   ]
  },
  {
   "cell_type": "code",
   "execution_count": null,
   "metadata": {},
   "outputs": [],
   "source": [
    "LJs"
   ]
  },
  {
   "cell_type": "markdown",
   "metadata": {},
   "source": [
    "**Fabrication sadly is not perfect and we need to account for that in the design** \n",
    "\n",
    "To ensure we have at least workable device and we will spray the resonators such that they land on $\\omega_{02}$ within fab uncertainties. We are going to create 4 such devices."
   ]
  },
  {
   "cell_type": "code",
   "execution_count": 10,
   "metadata": {},
   "outputs": [],
   "source": [
    "num_pairs = 4"
   ]
  },
  {
   "cell_type": "markdown",
   "metadata": {},
   "source": [
    "Let's assume that our fab facility has an uncertainy of $\\pm$ 0.75 GHz (seems very high but not uncommon) for the qubit frequency because we cannot control $L_J$  very well."
   ]
  },
  {
   "cell_type": "code",
   "execution_count": 11,
   "metadata": {},
   "outputs": [],
   "source": [
    "fab_errors = 0.75 # GHz"
   ]
  },
  {
   "cell_type": "markdown",
   "metadata": {},
   "source": [
    "The resonator frequency, on the other hand, is **much more stable** and easy to realize with high accuracy. Since, for this design we want the cavity to land on $\\approx \\omega_{02}$, we will need to adjust the resonator length to account for the uncertainty in the qubit frequency.\n",
    "\n",
    "Let's compute the maximum and minimum resonator frequencies that we need with the given qubit frequency uncertainty."
   ]
  },
  {
   "cell_type": "code",
   "execution_count": null,
   "metadata": {},
   "outputs": [],
   "source": [
    "w_cav = target_params[\"cavity_frequency_GHz\"]\n",
    "\n",
    "w_min = w_cav - 2*fab_errors\n",
    "w_max = w_cav + 2*fab_errors\n",
    "w_min, w_max"
   ]
  },
  {
   "cell_type": "markdown",
   "metadata": {},
   "source": [
    "We will now \"spray\" the resonator frequencies within this range."
   ]
  },
  {
   "cell_type": "code",
   "execution_count": null,
   "metadata": {},
   "outputs": [],
   "source": [
    "target_cav_freqs = np.linspace(w_min,w_max,num_pairs) #GHz\n",
    "target_cav_freqs"
   ]
  },
  {
   "cell_type": "markdown",
   "metadata": {},
   "source": [
    "Let's now get the updated resonator CPW lengths corresponding to these frequencies"
   ]
  },
  {
   "cell_type": "code",
   "execution_count": 14,
   "metadata": {},
   "outputs": [],
   "source": [
    "from squadds.core.utils import string_to_float"
   ]
  },
  {
   "cell_type": "code",
   "execution_count": 15,
   "metadata": {},
   "outputs": [],
   "source": [
    "target_cpw_length = string_to_float(data_cpw[\"total_length\"][0])\n",
    "\n",
    "cpw_lengths = target_cpw_length * (target_params[\"cavity_frequency_GHz\"]/ target_cav_freqs)\n",
    "cpw_lengths\n",
    "\n",
    "# add \"um\" to the cpw lengths\n",
    "cpw_lengths = [f\"{length}um\" for length in cpw_lengths]"
   ]
  },
  {
   "cell_type": "markdown",
   "metadata": {},
   "source": [
    "SQuADDS gave us the $L_j$ values needed for our qubit fabrication. However, we need to compute the junction geometries that would give us these $L_j$ values.\n",
    "\n",
    "For that we would first decide on the junction type. Depending on your fab facility, you may have all the freedom to choose any junction type or you may be constrained to some specific junction types and sizes.\n",
    "\n",
    "For the sake of this tutorial, let's say our hypothetical fab facility imposes the following constraints (very realistic):\n",
    "\n",
    "0. They can only make Dolan Josephson junctions.\n",
    "1. The junction length can only be 200 nm.\n",
    "2. The junction width can only be a multiple of 10 nm but at minimum 100 nm.\n",
    "3. The facility allows only 4 different current densities, $J_C \\in 0.1, 0.25, 1.0, 3.0 \\mu A/\\mu m^2$.\n",
    "\n",
    "\n",
    "We need to compute the junction sizes that would give us the desired $L_j$ values in adherence to these constraints."
   ]
  },
  {
   "cell_type": "markdown",
   "metadata": {},
   "source": [
    "**Recall:**\n",
    "\n",
    "$L_J = \\frac{\\Phi_0}{2\\pi I_c}$\n",
    "\n",
    "$I_c = J_c \\times A = J_c \\times (l_{JJ} \\times w_{JJ})$\n"
   ]
  },
  {
   "cell_type": "markdown",
   "metadata": {},
   "source": [
    "Since we know what our $L_J$ target is and $l_{JJ}$ is fixed by the foundry. Let's calculate what $w_{JJ}$ needs to be for each $J_C$ they offer"
   ]
  },
  {
   "cell_type": "code",
   "execution_count": 16,
   "metadata": {},
   "outputs": [],
   "source": [
    "def compute_JJ_width(Lj, current_density, JJ_length):\n",
    "    \"\"\"\n",
    "    Compute the width of the Josephson Junction (JJ) for a Dolan style junction.\n",
    "    \n",
    "    Args:\n",
    "    - Lj (float): Desired Josephson inductance in nH.\n",
    "    - current_density (float): Current density in μA/μm².\n",
    "    - JJ_length (float): Length of the Josephson Junction in nm.\n",
    "    \n",
    "    Returns:\n",
    "    - float: Width of the Josephson Junction in nm.\n",
    "    \"\"\"\n",
    "    # Convert units\n",
    "    Lj = Lj * 1e-9  # nH to H\n",
    "    current_density = current_density * 1e-6  # μA/μm² to A/μm²\n",
    "    JJ_length = JJ_length * 1e-3  # nm to μm\n",
    "    \n",
    "    # Constants\n",
    "    phi_0 = 2.067833848e-15  # Flux quantum in Wb\n",
    "    \n",
    "    # Calculate the critical current\n",
    "    Ic = phi_0 / (2 * np.pi * Lj)\n",
    "    \n",
    "    # Calculate the JJ_width\n",
    "    JJ_width = Ic / (current_density * JJ_length)\n",
    "    \n",
    "    return JJ_width * 1e3  # Convert from μm to nm"
   ]
  },
  {
   "cell_type": "code",
   "execution_count": 17,
   "metadata": {},
   "outputs": [],
   "source": [
    "def round_to_multiple_of_10(n: float) -> float:\n",
    "    \"\"\"\n",
    "    Rounds a float number to the nearest multiple of 10.\n",
    "\n",
    "    Parameters:\n",
    "    - n (float): The number to be rounded in nm\n",
    "\n",
    "    Returns:\n",
    "    - float: The rounded number in nm\n",
    "    \"\"\"\n",
    "\n",
    "    # Identify the decimal component of the number\n",
    "    integer_part, decimal_part = divmod(n, 1)\n",
    "    \n",
    "    # Find the nearest multiple of 10 for the integer part\n",
    "    rounded_integer = round(integer_part / 10) * 10\n",
    "    \n",
    "    if decimal_part >= 0.5:\n",
    "        rounded_integer += 10\n",
    "\n",
    "    return rounded_integer"
   ]
  },
  {
   "cell_type": "code",
   "execution_count": null,
   "metadata": {},
   "outputs": [],
   "source": [
    "current_densities = [0.1, 0.25, 1, 3.0]  # in μA/μm²\n",
    "foundry_min_JJ_width = 100  #nm\n",
    "\n",
    "JJ_length = 200  #nm\n",
    "\n",
    "# Compute JJ_width for each Lj and each current density\n",
    "JJ_widths_for_Ljs = {}\n",
    "for Lj in LJs:\n",
    "    JJ_widths_for_Ljs[Lj] = {}\n",
    "    for Jc in current_densities:\n",
    "        JJ_widths_for_Ljs[Lj][Jc] = round_to_multiple_of_10(compute_JJ_width(Lj, Jc, JJ_length))\n",
    "\n",
    "JJ_widths_for_Ljs"
   ]
  },
  {
   "cell_type": "markdown",
   "metadata": {},
   "source": [
    "We should use $J_C = 0.25 \\mu A/ \\mu m^2$ for this run since that satisfies our fab constraints and gives us a reasonable $w_{JJ}$"
   ]
  },
  {
   "cell_type": "code",
   "execution_count": null,
   "metadata": {},
   "outputs": [],
   "source": [
    "J_C = 0.25 # μA/μm²\n",
    "JJ_width = JJ_widths_for_Ljs[LJs[0]][J_C] # nm\n",
    "JJ_width"
   ]
  },
  {
   "cell_type": "markdown",
   "metadata": {},
   "source": [
    "## Making the Design\n",
    "\n",
    "We will use `qiskit-metal` to create the design. \n"
   ]
  },
  {
   "cell_type": "markdown",
   "metadata": {},
   "source": [
    "Importing all the qiskit-metal and helper libraries "
   ]
  },
  {
   "cell_type": "code",
   "execution_count": 20,
   "metadata": {},
   "outputs": [],
   "source": [
    "import warnings\n",
    "from shapely.errors import ShapelyDeprecationWarning\n",
    "\n",
    "\n",
    "warnings.filterwarnings(\"ignore\", category=ShapelyDeprecationWarning)"
   ]
  },
  {
   "cell_type": "code",
   "execution_count": 21,
   "metadata": {},
   "outputs": [],
   "source": [
    "from qiskit_metal import draw, Dict, designs, MetalGUI\n",
    "from qiskit_metal.toolbox_metal import math_and_overrides\n",
    "from qiskit_metal.qlibrary.core import QComponent\n",
    "import qiskit_metal as metal\n",
    "from qiskit_metal.qlibrary.terminations.launchpad_wb import LaunchpadWirebond\n",
    "from qiskit_metal.qlibrary.terminations.short_to_ground import ShortToGround\n",
    "from qiskit_metal.qlibrary.tlines.straight_path import RouteStraight\n",
    "from qiskit_metal.qlibrary.tlines.framed_path import RouteFramed\n",
    "from qiskit_metal.qlibrary.tlines.anchored_path import RouteAnchors\n",
    "from qiskit_metal.qlibrary.tlines.mixed_path import RouteMixed\n",
    "from qiskit_metal.qlibrary.tlines.meandered import RouteMeander\n",
    "from qiskit_metal.qlibrary.terminations.open_to_ground import OpenToGround\n",
    "from qiskit_metal.qlibrary.couplers.coupled_line_tee import CoupledLineTee\n",
    "from qiskit_metal.qlibrary.couplers.cap_n_interdigital_tee import CapNInterdigitalTee\n",
    "from qiskit_metal.qlibrary.couplers.line_tee import LineTee\n",
    "from qiskit_metal.qlibrary.tlines.pathfinder import RoutePathfinder\n",
    "\n",
    "from collections import OrderedDict\n",
    "\n",
    "import numpy as np"
   ]
  },
  {
   "cell_type": "markdown",
   "metadata": {},
   "source": [
    "Using the custom `TransmonCross` component from `SQuADDS` to create the qubits."
   ]
  },
  {
   "cell_type": "code",
   "execution_count": 22,
   "metadata": {},
   "outputs": [],
   "source": [
    "from squadds.components.qubits import TransmonCross"
   ]
  },
  {
   "cell_type": "markdown",
   "metadata": {},
   "source": [
    "Defining some helper methods to create the various structures we need in our design."
   ]
  },
  {
   "cell_type": "code",
   "execution_count": 23,
   "metadata": {},
   "outputs": [],
   "source": [
    "\n",
    "def create_qubit(name, pos_x, pos_y, orientation,JJ_flip,LJ,jj_width,jj_length,claw_gap, claw_length, claw_width, cross_length, cross_width, cross_gap, ground_spacing, **kwargs):\n",
    "    xmon_options = dict(\n",
    "        connection_pads=dict(\n",
    "            c=dict(connector_location='90', connector_type='0',\n",
    "                   claw_length=claw_length,\n",
    "                   claw_gap=claw_gap,\n",
    "                   ground_spacing=ground_spacing,\n",
    "                   claw_width=claw_width,\n",
    "                   claw_cpw_length='0um'),\n",
    "        ),\n",
    "        cross_length=cross_length,\n",
    "        cross_gap=cross_gap,\n",
    "        orientation=orientation,\n",
    "        pos_x=pos_x,\n",
    "        pos_y=pos_y,\n",
    "        cross_width=cross_width,\n",
    "        hfss_inductance=LJ * 10**(-9),\n",
    "        aedt_hfss_inductance=LJ * 10**(-9),\n",
    "        style=\"JJ_Dolan\",\n",
    "        Dolan_JJ  = Dict(JJ_width = f'{jj_width}nm',\n",
    "                          JJ_flip  = JJ_flip),\n",
    "        **kwargs\n",
    "    )\n",
    "    return TransmonCross(design, name, options=xmon_options)\n",
    "\n",
    "def create_cpw(name, start_component, end_component, total_length, trace_gap, trace_width):\n",
    "    cpw_opts = Dict(\n",
    "        pin_inputs=Dict(start_pin=Dict(component=start_component, pin='second_end'),\n",
    "                        end_pin=Dict(component=end_component, pin='c')),\n",
    "        lead=Dict(start_straight='5um', end_straight='0um'),\n",
    "        fillet='30.9um',\n",
    "        total_length=total_length,\n",
    "        trace_width=trace_width,\n",
    "        meander=Dict(spacing='100um', asymmetry='-50um'),\n",
    "        trace_gap=trace_gap\n",
    "    )\n",
    "    return RouteMeander(design, name, options=cpw_opts)\n",
    "\n",
    "def create_clt(name, orientation, pos_y, coupling_length, coupling_space, down_length, prime_gap, prime_width, second_gap, second_width):\n",
    "    clt_opts = Dict(\n",
    "        prime_width=prime_width,\n",
    "        prime_gap=prime_gap,\n",
    "        second_width=second_width,\n",
    "        second_gap=second_gap,\n",
    "        coupling_space=coupling_space,\n",
    "        coupling_length=coupling_length,\n",
    "        open_termination=False,\n",
    "        orientation=orientation,\n",
    "        pos_y=pos_y,\n",
    "        down_length=down_length\n",
    "    )\n",
    "    return CoupledLineTee(design, name, options=clt_opts)\n",
    "\n",
    "def create_wirebond(name, orientation, pos_y, pad_width='160um', pad_length='200um', tapper_height='200um', trace_width=\"11.7um\",trace_gap=\"5.1um\"):\n",
    "    options = Dict(\n",
    "        orientation=orientation,\n",
    "        pos_y=f\"{pos_y}mm\",\n",
    "        pad_width=pad_width,\n",
    "        pad_length=pad_length,\n",
    "        tapper_height=tapper_height,\n",
    "        trace_width=trace_width,\n",
    "        trace_gap=trace_gap\n",
    "    )\n",
    "    return LaunchpadWirebond(design, name, options=options)\n",
    "\n",
    "\n",
    "def create_feedline(name, start_component, start_pin, end_component, end_pin, trace_width='11.7um', trace_gap='5.1um'):\n",
    "    options = Dict(\n",
    "        pin_inputs=Dict(\n",
    "            start_pin=Dict(component=start_component, pin=start_pin),\n",
    "            end_pin=Dict(component=end_component, pin=end_pin)\n",
    "        ),\n",
    "        trace_width=trace_width,\n",
    "        trace_gap=trace_gap\n",
    "    )\n",
    "    return RouteStraight(design, name, options=options)"
   ]
  },
  {
   "cell_type": "markdown",
   "metadata": {},
   "source": [
    "Before designing the chip, we need to think about our requirements, resources and constraints.\n",
    "\n",
    "\n",
    "\n",
    "Let's start with our board - since we are planning to have 4 qubits each with its own drive line and measure in transmission (2 ports), we need to ensure that we have have a total of 6 ports.\n",
    "\n",
    "\n",
    "\n"
   ]
  },
  {
   "cell_type": "markdown",
   "metadata": {},
   "source": [
    "<div style=\"text-align: center;\">\n",
    "  <div style=\"display: inline-flex; justify-content: center; align-items: center; gap: 20px;\">\n",
    "    <div style=\"flex: 1; text-align: center;\">\n",
    "      <img src=\"figures/board.png\" alt=\"Figure 1\" style=\"width: 20%;\">\n",
    "    </div>\n",
    "  </div>\n",
    "</div>\n"
   ]
  },
  {
   "cell_type": "markdown",
   "metadata": {},
   "source": [
    "The board cut out is about 5.4mm x 5.4mm so we need to ensure our chip size is less than that and give ourselves enough room for chip packaging and removal safely (and without much stress) with a tweezer.\n",
    "\n",
    "Let's start the GUI instance and create the design for a chip that is 5 mm x 5 mm"
   ]
  },
  {
   "cell_type": "code",
   "execution_count": null,
   "metadata": {},
   "outputs": [],
   "source": [
    "design = metal.designs.design_planar.DesignPlanar()\n",
    "design.overwrite_enabled = True\n",
    "design._chips.main.size.size_x = '5mm'\n",
    "design._chips.main.size.size_y = '5mm'\n",
    "gui = metal.MetalGUI(design)"
   ]
  },
  {
   "cell_type": "markdown",
   "metadata": {},
   "source": [
    "The ports on our chip need to be arranged in a way such that they are closest to the CPW trace of our board (schematic pictured above) for easy wirebonding.\n",
    "\n",
    "It also needs to be made sure that the ports have an impedance of 50 Ohms. The following port dimenstions and their arrangement satisfy the above requirements:"
   ]
  },
  {
   "cell_type": "code",
   "execution_count": 25,
   "metadata": {},
   "outputs": [],
   "source": [
    "# wirebond pads for the feedline\n",
    "wb1 = create_wirebond('wb_top', orientation=-90, pos_y=2.5 - 0.4,  pad_width='160um', pad_length='200um', tapper_height='200um', trace_width=\"11.7um\", trace_gap=\"5.1um\")\n",
    "wb2 = create_wirebond('wb_bottom', orientation=90, pos_y=-2.5 + 0.6, pad_width='160um', pad_length='200um', tapper_height='200um', trace_width=\"11.7um\", trace_gap=\"5.1um\")\n",
    "\n",
    "# create the feedline\n",
    "feedline = create_feedline('feedline', 'wb_top', 'tie', 'wb_bottom', 'tie', trace_width=\"11.7um\", trace_gap='5.1um')"
   ]
  },
  {
   "cell_type": "code",
   "execution_count": 26,
   "metadata": {},
   "outputs": [],
   "source": [
    "# charge lines\n",
    "lp3 = LaunchpadWirebond(design, 'LP3', options = Dict(pos_x = '-2mm', pos_y = '-1.3mm', trace_width='10um', \n",
    "                                                               trace_gap='6um', orientation='0', pad_width='150um', pad_height='200um'))\n",
    "\n",
    "lp1 = LaunchpadWirebond(design, 'LP1', options = Dict(pos_x = '-2mm', pos_y = '1.3mm', trace_width='10um', \n",
    "                                                               trace_gap='6um', orientation='0', pad_width='150um', pad_height='200um'))\n",
    "\n",
    "\n",
    "lp4 = LaunchpadWirebond(design, 'LP4', options = Dict(pos_x = '2mm', pos_y = '-1.3mm', trace_width='10um', \n",
    "                                                               trace_gap='6um', orientation='180', pad_width='150um', pad_height='200um'))\n",
    "\n",
    "lp2 = LaunchpadWirebond(design, 'LP2', options = Dict(pos_x = '2mm', pos_y = '1.3mm', trace_width='10um', \n",
    "                                                               trace_gap='6um', orientation='180', pad_width='150um', pad_height='200um'))\n",
    "\n",
    "charge_line_ports = [lp1, lp2, lp3, lp4]"
   ]
  },
  {
   "cell_type": "code",
   "execution_count": null,
   "metadata": {},
   "outputs": [],
   "source": [
    "gui.rebuild()\n",
    "gui.autoscale()\n",
    "gui.screenshot(\"figures/ports.png\")"
   ]
  },
  {
   "cell_type": "markdown",
   "metadata": {},
   "source": [
    "Let's start with a rough sketch of what we want the design to look like.\n",
    "\n",
    "<div style=\"text-align: center;\">\n",
    "  <div style=\"display: inline-flex; justify-content: center; align-items: center; gap: 20px;\">\n",
    "    <div style=\"flex: 1; text-align: center;\">\n",
    "      <img src=\"figures/sketch.jpeg\" alt=\"Figure 1\" style=\"width: 20%;\">\n",
    "    </div>\n",
    "  </div>\n",
    "</div>\n",
    "\n",
    "**I am clearly an artist**"
   ]
  },
  {
   "cell_type": "markdown",
   "metadata": {},
   "source": [
    "Nice! Let's now add the qubits and the resonators to the design.\n",
    "\n",
    "Using the following orientations and positions for the qubits (and the Dolan JJs) for minimal cross-talk, best use of space, and ensuring that all the JJs can be written in single evaporation run"
   ]
  },
  {
   "cell_type": "code",
   "execution_count": 28,
   "metadata": {},
   "outputs": [],
   "source": [
    "qubit_orientations = ['-90', '90', '-90', '90']\n",
    "clt_orientations = ['-90', '90', '-90', '90']\n",
    "positions = [('-1500um', '800um'), ('1500um', '1700um'),\n",
    "             ('-1500um', '-750um'), ('1500um', '-200um')]\n",
    "JJ_flips = [False, True, False, True]"
   ]
  },
  {
   "cell_type": "code",
   "execution_count": null,
   "metadata": {},
   "outputs": [],
   "source": [
    "# Lists to store the various design objects\n",
    "cpw_objects = []\n",
    "qubit_objects = []\n",
    "clt_objects = []\n",
    "\n",
    "# Loop through each entry to create design objects\n",
    "for i in range(num_pairs):\n",
    "    qubit_name = f'Q{i + 1}'\n",
    "    clt_name = f'clt{i + 1}'\n",
    "    cpw_name = f'cpw{i + 1}'\n",
    "\n",
    "    # respecting the minimum JJ width\n",
    "    jj_width = max(JJ_width, foundry_min_JJ_width)\n",
    "\n",
    "    # Create the qubit\n",
    "    qubit_objects.append(\n",
    "        create_qubit(\n",
    "            qubit_name,\n",
    "            pos_x=positions[i][0],\n",
    "            pos_y=positions[i][1],\n",
    "            orientation=qubit_orientations[i],\n",
    "            JJ_flip=JJ_flips[i],\n",
    "            LJ=LJs[0],\n",
    "            jj_width=jj_width,\n",
    "            jj_length=JJ_length,\n",
    "            claw_gap=data_qubit['claw_gap'][0],\n",
    "            claw_length=data_qubit['claw_length'][0],\n",
    "            claw_width=data_qubit['claw_width'][0],\n",
    "            cross_length=data_qubit['cross_length'][0],\n",
    "            cross_width=data_qubit['cross_width'][0],\n",
    "            cross_gap=data_qubit['cross_gap'][0],\n",
    "            ground_spacing=data_qubit['ground_spacing'][0]\n",
    "        )\n",
    "    )\n",
    "\n",
    "    # Create the CLT\n",
    "    clt_objects.append(\n",
    "        create_clt(\n",
    "            clt_name,\n",
    "            orientation=clt_orientations[i],\n",
    "            pos_y=positions[i][1],\n",
    "            coupling_length=data_coupler['coupling_length'][0],\n",
    "            coupling_space=data_coupler['coupling_space'][0],\n",
    "            down_length=data_coupler['down_length'][0],\n",
    "            prime_gap=data_coupler['prime_gap'][0],\n",
    "            prime_width=data_coupler['prime_width'][0],\n",
    "            second_gap=data_coupler['second_gap'][0],\n",
    "            second_width=data_coupler['second_width'][0]\n",
    "        )\n",
    "    )\n",
    "\n",
    "    # Create the CPW\n",
    "    cpw_objects.append(\n",
    "        create_cpw(\n",
    "            cpw_name,\n",
    "            start_component=clt_name,\n",
    "            end_component=qubit_name,\n",
    "            total_length=cpw_lengths[i],\n",
    "            trace_gap=data_cpw['trace_gap'][0],\n",
    "            trace_width=data_cpw['trace_width'][0]\n",
    "        )\n",
    "    )"
   ]
  },
  {
   "cell_type": "code",
   "execution_count": null,
   "metadata": {},
   "outputs": [],
   "source": [
    "gui.rebuild()\n",
    "gui.autoscale()\n",
    "gui.screenshot(\"figures/chip1.png\")"
   ]
  },
  {
   "cell_type": "markdown",
   "metadata": {},
   "source": [
    "Lets zoom in on a qubit and its JJ to see how it looks.\n"
   ]
  },
  {
   "cell_type": "code",
   "execution_count": null,
   "metadata": {},
   "outputs": [],
   "source": [
    "gui.zoom_on_components(['Q4_JJ_Dolan'])\n",
    "gui.screenshot(\"figures/q1_jj_zoomed.png\")\n",
    "\n",
    "gui.zoom_on_components(['Q1'])\n",
    "gui.screenshot(\"figures/q1_zoomed.png\")"
   ]
  },
  {
   "cell_type": "markdown",
   "metadata": {},
   "source": [
    "Awesome the junctions and the qubits look great. However, as we can see there are some \"kinks\" in some of the CPW lines - lets take a closer look"
   ]
  },
  {
   "cell_type": "code",
   "execution_count": null,
   "metadata": {},
   "outputs": [],
   "source": [
    "gui.zoom_on_components(['cpw1'])\n",
    "gui.screenshot(\"figures/cpw1_zoomed.png\")"
   ]
  },
  {
   "cell_type": "markdown",
   "metadata": {},
   "source": [
    "We can fix this by changing the `lead.end_straight` and `lead.start_straigh` parameters. These numbers are to be adjusted until the issue is resolved."
   ]
  },
  {
   "cell_type": "code",
   "execution_count": null,
   "metadata": {},
   "outputs": [],
   "source": [
    "for cpw in cpw_objects:\n",
    "    cpw.options.lead.start_straight = '75um'\n",
    "    cpw.options.lead.end_straight = '50um'\n",
    "\n",
    "gui.rebuild()\n",
    "gui.zoom_on_components(['cpw1'])\n",
    "gui.screenshot(\"figures/cpw1_zoomed2.png\")\n",
    "\n",
    "gui.autoscale()\n",
    "gui.screenshot(\"figures/chip1_v1.png\")"
   ]
  },
  {
   "cell_type": "markdown",
   "metadata": {},
   "source": [
    "Great that fixed it!\n",
    "\n",
    "Now, lets add the charge lines! To do this we need to first add the `OpenToGround` pins first. The following method will add the pins below/above the qubits as we specify with our chosen distance from it."
   ]
  },
  {
   "cell_type": "code",
   "execution_count": 34,
   "metadata": {},
   "outputs": [],
   "source": [
    "def create_charge_line_otgs(qubit, port, distance, orientation, index):\n",
    "    # get the qubit position as float\n",
    "    qubit_pos_x = float(qubit.options.pos_x[:-2])\n",
    "    qubit_pos_y = float(qubit.options.pos_y[:-2])\n",
    "    # get qubit cross length and cros gap\n",
    "    qubit_cross_length = float(qubit.options.cross_length[:-2])\n",
    "    qubit_cross_gap = float(qubit.options.cross_gap[:-2])\n",
    "    qubit_name = qubit.name\n",
    "    \n",
    "    # get the port name\n",
    "    port_name = port.name\n",
    "\n",
    "    # set the otg name \n",
    "    otg_name = f'otg_{index}'\n",
    "    if orientation == \"below\":\n",
    "        # place the OpenToGround termination below the qubit\n",
    "        otg = OpenToGround(design, otg_name, Dict(pos_x=f\"{qubit_pos_x}um\", pos_y=f\"{qubit_pos_y-qubit_cross_length-qubit_cross_gap-distance-6}um\", orientation='90'))\n",
    "    elif orientation == \"above\":\n",
    "        # place the OpenToGround termination above the qubit\n",
    "        otg = OpenToGround(design, otg_name, Dict(pos_x=f\"{qubit_pos_x}um\", pos_y=f\"{qubit_pos_y+qubit_cross_length+qubit_cross_gap+distance-6}um\", orientation='-90'))\n",
    "        \n",
    "    return otg \n",
    "\n"
   ]
  },
  {
   "cell_type": "markdown",
   "metadata": {},
   "source": [
    "We will then need to add the charge lines from the ports to the `OpenToGround` pins. For this we are using `RouteAnchors` since all other options lead to 90 turns which are bad - cause radiation loss and massive TLS loss.\n",
    "\n",
    "I only use one anchor which I set at the x position of the qubit center and the y position of the port center."
   ]
  },
  {
   "cell_type": "code",
   "execution_count": 35,
   "metadata": {},
   "outputs": [],
   "source": [
    "def create_charge_line(qubit, port, otg, name):\n",
    "    # Create an OrderedDict for the anchors\n",
    "    anch_list = OrderedDict()\n",
    "    \n",
    "    # Define anchors based on the qubit and port positions\n",
    "    # You can adjust this based on your specific layout needs\n",
    "    anch_list[0] = np.array([qubit.options.pos_x, port.options.pos_y])\n",
    "\n",
    "    # Create the RouteAnchors instance\n",
    "    route = RouteAnchors(design, name, Dict(\n",
    "        fillet='80um',\n",
    "        anchors=anch_list,\n",
    "        pin_inputs=Dict(\n",
    "            start_pin=Dict(component=port.name, pin='tie'),  # Start pin (port)\n",
    "            end_pin=Dict(component=otg.name, pin='open')  # End pin (qubit)\n",
    "        ),\n",
    "        lead=Dict(\n",
    "            start_straight='15um',  # Lead-in straight section\n",
    "            end_straight='50um'     # Lead-out straight section\n",
    "        )\n",
    "    ))\n",
    "\n",
    "    # Ensure the start and end pins are set, which defines head and tail points\n",
    "    route.set_pin(\"start\")  # Set the head (start pin)\n",
    "    route.set_pin(\"end\")    # Set the tail (end pin)\n",
    "\n",
    "    # You can now get the points\n",
    "    points = route.get_points()\n",
    "    return route\n"
   ]
  },
  {
   "cell_type": "markdown",
   "metadata": {},
   "source": [
    "Now, we instantiate these objects to make the charge lines. The \"gaps\" (i.e the distance between the charge line and the qubit) are to be chosen such that $T_1$ does not get too shortened."
   ]
  },
  {
   "cell_type": "code",
   "execution_count": null,
   "metadata": {},
   "outputs": [],
   "source": [
    "placement = [\"above\", \"below\", \"below\", \"below\"]\n",
    "gaps = [50, 50, 50, 50] #um\n",
    "\n",
    "otg_objects = []\n",
    "charge_lines = []\n",
    "\n",
    "for i in range(len(qubit_objects)):\n",
    "    qubit = qubit_objects[i]\n",
    "    port = charge_line_ports[i]\n",
    "    otg = create_charge_line_otgs(qubit, port, gaps[i], placement[i],i+1)\n",
    "    cl = create_charge_line(qubit, port, otg, f'cl_{i+1}')\n",
    "    otg_objects.append(otg)\n",
    "    charge_lines.append(cl)\n",
    "\n",
    "gui.rebuild()\n",
    "gui.autoscale()\n",
    "gui.screenshot(\"figures/completed_chip.png\")"
   ]
  },
  {
   "cell_type": "markdown",
   "metadata": {},
   "source": [
    "# Exporting the Design\n",
    "\n",
    "Set the layer numbers to your foundry/fab facility standards. \n",
    "\n",
    "For example, lets say our foundry wants all metal layers except for the charge lines to be layer 3 and the charge lines (and ports) to be layer 6.  *I have to admit this is a very odd request but I think its a good teaching point*\n"
   ]
  },
  {
   "cell_type": "code",
   "execution_count": 37,
   "metadata": {},
   "outputs": [],
   "source": [
    "charge_line_layer = 6\n",
    "metal_layer = 3"
   ]
  },
  {
   "cell_type": "markdown",
   "metadata": {},
   "source": [
    "Assign metal layers to the respective QComponents."
   ]
  },
  {
   "cell_type": "code",
   "execution_count": 38,
   "metadata": {},
   "outputs": [],
   "source": [
    "comps = ['wb_top', 'wb_bottom', 'feedline']\n",
    "numbered_comps = ['cpw', 'Q', 'clt', 'otg_']\n",
    "\n",
    "metal_obj_names = comps + [f\"{prefix}{i}\" for prefix in numbered_comps for i in range(1, 5)]\n",
    "\n",
    "for component_name, component in design.components.items():\n",
    "    if component_name in metal_obj_names:  \n",
    "        component.options.layer = str(metal_layer)\n"
   ]
  },
  {
   "cell_type": "markdown",
   "metadata": {},
   "source": [
    "Adjusting the charge line layers."
   ]
  },
  {
   "cell_type": "code",
   "execution_count": 39,
   "metadata": {},
   "outputs": [],
   "source": [
    "numbered_comps = ['cl_', 'LP']\n",
    "\n",
    "charge_line_obj_names = [f\"{prefix}{i}\" for prefix in numbered_comps for i in range(1, 5)]\n",
    "\n",
    "for component_name, component in design.components.items():\n",
    "    if component_name in charge_line_obj_names:  \n",
    "        component.options.layer = str(charge_line_layer)"
   ]
  },
  {
   "cell_type": "markdown",
   "metadata": {},
   "source": [
    "Rebuild the `gui` to save the changes."
   ]
  },
  {
   "cell_type": "code",
   "execution_count": 40,
   "metadata": {},
   "outputs": [],
   "source": [
    "gui.rebuild()"
   ]
  },
  {
   "cell_type": "markdown",
   "metadata": {},
   "source": [
    "Processing the gds now.\n",
    "\n",
    "We want to include ground plane holes to ensure that we don't trap flux."
   ]
  },
  {
   "cell_type": "code",
   "execution_count": 41,
   "metadata": {},
   "outputs": [],
   "source": [
    "a_gds = design.renderers.gds\n",
    "a_gds.options['fabricate'] = 'True'\n",
    "a_gds.options['cheese']['view_in_file']['main'][metal_layer] = True\n",
    "a_gds.options['cheese']['view_in_file']['main'][charge_line_layer] = False\n",
    "a_gds.options.no_cheese['view_in_file']['main']={3: True, 6: True}  "
   ]
  },
  {
   "cell_type": "markdown",
   "metadata": {},
   "source": [
    "Defining the ground plane holes."
   ]
  },
  {
   "cell_type": "code",
   "execution_count": 42,
   "metadata": {},
   "outputs": [],
   "source": [
    "a_gds.options.cheese.datatype = \"2\"\n",
    "a_gds.options.cheese.cheese_0_x = \"25um\"\n",
    "a_gds.options.cheese.cheese_0_y = \"25um\"\n",
    "a_gds.options.cheese.edge_nocheese = \"200um\"\n",
    "a_gds.options.cheese.delta_x = \"125um\"\n",
    "a_gds.options.cheese.delta_y = \"125um\""
   ]
  },
  {
   "cell_type": "markdown",
   "metadata": {},
   "source": [
    "Defining the keepout regions."
   ]
  },
  {
   "cell_type": "code",
   "execution_count": 43,
   "metadata": {},
   "outputs": [],
   "source": [
    "a_gds.options.no_cheese.datatype = \"3\"\n",
    "a_gds.options.no_cheese.buffer = \"100um\""
   ]
  },
  {
   "cell_type": "markdown",
   "metadata": {},
   "source": [
    "Exporting the gds file"
   ]
  },
  {
   "cell_type": "code",
   "execution_count": null,
   "metadata": {},
   "outputs": [],
   "source": [
    "filename = \"gds_files/USC4Q_qff2024\"\n",
    "a_gds.export_to_gds(f\"{filename}.gds\")"
   ]
  },
  {
   "cell_type": "markdown",
   "metadata": {},
   "source": [
    "Now you can do run it through the DRC software and address any errors and thats it you are now ready to  go to your local cleanroom and make this device or send it to your foundry!"
   ]
  },
  {
   "cell_type": "markdown",
   "metadata": {},
   "source": [
    "## Next Steps...\n",
    "\n",
    "In the next tutorial, we will show you how to use the SQuADDS database for Machine Learning based interpolation."
   ]
  },
  {
   "cell_type": "markdown",
   "metadata": {},
   "source": [
    "<div style='width: 100%; background-color:#3cb1c2;color:#324344;padding-left: 10px; padding-bottom: 10px; padding-right: 10px; padding-top: 5px'>\n",
    "    <h3>This SQuADDS tutorial was prepared for the Qiskit Fall Fest 2024</h3>\n",
    "    <p>Developed by Sadman Ahmed Shanto</p>\n",
    "    <p>This tutorial is written by Sadman Ahmed Shanto</p> \n",
    "    <p>&copy; Copyright Sadman Ahmed Shanto & Eli Levenson-Falk 2024.</p>\n",
    "</div>"
   ]
  }
 ],
 "metadata": {
  "kernelspec": {
   "display_name": "qiskit-metal-env",
   "language": "python",
   "name": "python3"
  },
  "language_info": {
   "codemirror_mode": {
    "name": "ipython",
    "version": 3
   },
   "file_extension": ".py",
   "mimetype": "text/x-python",
   "name": "python",
   "nbconvert_exporter": "python",
   "pygments_lexer": "ipython3",
   "version": "3.11.8"
  }
 },
 "nbformat": 4,
 "nbformat_minor": 2
}
